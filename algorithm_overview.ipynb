{
 "cells": [
  {
   "cell_type": "code",
   "execution_count": 1,
   "metadata": {},
   "outputs": [],
   "source": [
    "from ecdsa.ellipticcurve import *"
   ]
  },
  {
   "cell_type": "markdown",
   "metadata": {},
   "source": [
    "# Diffie Hellman Shared Secret\n",
    "Elliptic Cryptography is based on the [Discrete Logarithm Problem](https://jeremykun.com/2014/03/31/elliptic-curve-diffie-hellman/). In essense, we can simplify the idea to\n",
    "> Adding  is easy on elliptic curves,  but **undoing** addition seems hard\n",
    "\n",
    "More formally, we can give the following definition: Let $G$ be an additive  group, and let $x,y$ be elements of $G$ so that $x=ny$ for some integer $n$. The Discrete  Logarithm Problem asks one to find $n$ when given $x$ and $y$.\n",
    "\n",
    "In integers, this problem is quite easy.\n",
    "If I have:\n",
    "- $x=12$\n",
    "- $y=4185072$\n",
    "Then, I can compute that $y=41805072=348756*12=348756x \\rightarrow  n=348756$.\n",
    "\n",
    "> Division for integers is efficient, **but for elliptic curves this is not the case**.\n",
    "\n",
    "Here is a toy problem testing my understanding of DH's shared secret protocol."
   ]
  },
  {
   "cell_type": "code",
   "execution_count": 3,
   "metadata": {},
   "outputs": [],
   "source": [
    "# Diffie Hellman Shared Secret POC\n",
    "def sendDH(privateKey, generator, sendFunction):\n",
    "   return sendFunction(privateKey * generator)\n",
    "\n",
    "def receiveDH(privateKey, receiveFunction):\n",
    "   return privateKey * receiveFunction()\n",
    "\n",
    "prime = 3851\n",
    "a = 324\n",
    "b = 1287\n",
    "myCurve = CurveFp(prime, a, b)\n",
    "basePoint = Point(myCurve, 920, 303)"
   ]
  },
  {
   "cell_type": "code",
   "execution_count": 4,
   "metadata": {},
   "outputs": [],
   "source": [
    "aliceSecretKey = 233    # generateSecretKey(8)\n",
    "bobSecretKey = 25       # generateSecretKey(8)\n",
    "\n",
    "alicePublicKey = sendDH(aliceSecretKey, basePoint, lambda x:x)\n",
    "bobPublicKey = sendDH(bobSecretKey, basePoint, lambda x:x)\n",
    "\n",
    "sharedSecret1 = receiveDH(bobSecretKey, lambda: alicePublicKey)\n",
    "sharedSecret2 = receiveDH(aliceSecretKey, lambda: bobPublicKey)"
   ]
  },
  {
   "cell_type": "code",
   "execution_count": 6,
   "metadata": {},
   "outputs": [
    {
     "name": "stdout",
     "output_type": "stream",
     "text": [
      "<ecdsa.ellipticcurve.CurveFp object at 0x000002236D19E7F0>\n",
      "(920,303)\n",
      "Shared secret is (1001,3826) == (1001,3826)\n"
     ]
    }
   ],
   "source": [
    "print(myCurve)\n",
    "print(basePoint)\n",
    "print('Shared secret is %s == %s' % (sharedSecret1, sharedSecret2))"
   ]
  },
  {
   "cell_type": "markdown",
   "metadata": {},
   "source": [
    "# Algorithm Overview\n",
    "Steps to implement\n",
    "1. Hashing password into elliptic curve\n",
    "    - PWD entered by user\n",
    "    - SHA-256 computation, hashing into the NIST P-256 Curve\n",
    "    - this is computed on input + iteration_counter $\\rightarrow Z_q$.\n",
    "    - computed value is considered $x$ coord of a point on curve if $y$-value is associated with it is a quadratic residue (i.e. $x,y$ satisfy the curve equation).\n",
    "    - this is repeated until a curve element is obtained. (which is the output)\n",
    "    - Password is concatenated with domain name and input into H'. (ADD RESISTANCE AGAINST PHISHING)\n",
    "2. FK-PTR OPRF protocol\n",
    "    1. EXTENSION:\n",
    "        - Blind the password with OPRF\n",
    "            - OPRF: $F_k(x)=H(x,(H'(x))^k)$\n",
    "                - input $x$ from client\n",
    "                - $k$ is from device\n",
    "                - H maps from arbitrary length string $\\rightarrow e \\in \\{0,1\\}^\\tau$, $\\tau$ is a security parameter\n",
    "                - H' maps from arbitrary length string $\\rightarrow g \\in G$\n",
    "                    - H' is the \"Hash into Elliptic Curve\" function, which maps the password into a point on NIST P-256 curve\n",
    "            - works over a group $G$ of prime order $p$ (e.g. NIST P-256 group)\n",
    "        - extension picks a random number $\\rho \\in Z_q$ and raises the hash value of the input to the power $\\rho$.\n",
    "            - this blinding factor $\\rho$ hides the password with information-theoretic security)\n",
    "        SEND THIS AS $\\alpha$\n",
    "    2. DEVICE\n",
    "        - check if $\\alpha$ is $\\in G$\n",
    "        - compute and SEND BACK $\\beta = \\alpha^k$\n",
    "    3. BACK TO EXTENSION\n",
    "        - check if $\\beta$ is $\\in G$\n",
    "        - raise the recieved value to the power of $\\rho^{-1} \\in Z_q$\n",
    "        - then compute the SHA-256 hash of calculated value.\n",
    "    4. BACK TO RWD PASSWORD\n",
    "        - (same as PwdHash implementation)\n",
    "        - encoded to a random combination of letters, numbers and symbols matching the passwrod requirement of the visited website and entered into pwd field of login page.\n",
    "        \n",
    "## N.B.\n",
    "- taking the exponential in a group is just repetition of the operation\n",
    "    - i.e. $\\forall x \\in G, n \\in Z, x^n = \\underbrace{x+...+x}_\\text{n times}$.\n",
    "    - see this [crypto stack exchange thread](https://crypto.stackexchange.com/questions/57768/exponentiation-in-ecc)\n",
    "- how to take the inverse power in a group\n",
    "    - Raise the point to the power $a^{-1} \\in Z_p$\n",
    "    - this is fairly easy to do with [euclidean algorithm](https://en.wikipedia.org/wiki/Modular_multiplicative_inverse)\n",
    "    - see [stack exchange link](https://math.stackexchange.com/questions/471269/point-division-in-elliptic-curve-cryptography) for more info\n",
    "- Instantiation assumes a cyclic group $G$ of prime order $q$, $|q|=\\tau$, with generator $g$. \n",
    "    - At init, User chooses master password pwd, while Device chooses and stores $k \\leftarrow Z_q$.\n",
    "- H which looks like it accepts two arguments when it's called in $H(x, (H'(x))^k)$ really just means hash it all at once, by appending it.\n",
    "    - in the paper, it describes this step as \"Client hashes this value $(H'(pwd|domain))^k$ with the pwd to obtain rwd\"\n",
    "    - in the implementation, they use `crypto_generichash_update()` from [source.](https://github.com/stef/libsphinx/blob/master/src/sphinx.c)\n",
    "    - furthermore, in the documentation for `<sodium.h>` they use this function to compute the hash on a multi-part [example](https://libsodium.gitbook.io/doc/hashing/generic_hashing#multi-part-example-with-a-key)\n",
    "    - there is a reddit thread which also explains how the function used can be used to hash variable length things such as a [stream](https://www.reddit.com/r/crypto/comments/7ooot2/using_libsodiums_generic_hash_to_hash_a_file/)\n",
    "- the notation of $\\{0,1\\}^\\tau$ means a bit string of length $\\tau$\n",
    "    - From this [paper on hashing into Elliptic Curves](https://tools.ietf.org/html/draft-irtf-cfrg-hash-to-curve-01#page-4), they describe the following notation:\n",
    "        - \"bitstring of arbitrary length is denoted as $\\{0, 1\\}^*$\"\n",
    "- octet means base-256, and not to be confused with octal which is base-8"
   ]
  },
  {
   "cell_type": "markdown",
   "metadata": {},
   "source": [
    "## 1. Hashing password into elliptic curve\n",
    "### 5.2.3.  Simplified SWU Method\n",
    "\n",
    "Given curve equation g(x) = x^3 + Ax + B, this algorithm works as follows:\n",
    "   1. t = `HashToBase(\\alpha)`\n",
    "   2. $\\alpha = \\frac{-b}{a} * (1+\\frac{1}{t^4 + t^2})$\n",
    "   3. $\\beta = -t^2 * \\alpha$\n",
    "   4. If $g(\\alpha)$ is square, output $(\\alpha, \\sqrt{g(\\alpha)})$\n",
    "   5. Output $(\\beta, \\sqrt{g(\\beta)})$\n",
    "\n",
    "The following procedure implements this algorithm.  It outputs a point with affine coordinates.  It requires knowledge of A and B, the constants from the curve Weierstrass form.\n",
    "\n",
    "Here is a definition of the function:\n",
    "HashToBase(x): $H(x)[0:log_2(p) + 1]$, i.e., hash-truncate-reduce, where H is a cryptographic hash function, such as SHA256, and $p$ is the prime order of base field $F_p$.\n",
    "Here is some psuedo code:\n",
    "```\n",
    "HashToBase(x, i)\n",
    "\n",
    "Parameters:\n",
    "\n",
    " H - cryptographic hash function to use\n",
    " hbits - number of bits output by H\n",
    " p - order of the base field Fp\n",
    " label - context label for domain separation\n",
    "\n",
    "Preconditions:\n",
    "\n",
    " floor(log2(p)) + 1 >= hbits\n",
    "\n",
    "Input:\n",
    "\n",
    " x - value to be hashed, an octet string\n",
    " i - hash call index, a non-negative integer\n",
    "\n",
    "Output:\n",
    "\n",
    " y - a value in the field Fp\n",
    "\n",
    "Steps:\n",
    "\n",
    " 1. t1 = H(\"h2c\" || label || I2OSP(i, 4) || x)\n",
    " 2. t2 = OS2IP(t1)\n",
    " 3. y = t2 (mod p)\n",
    " 4. Output y\n",
    "\n",
    "where I2OSP, OS2IP [RFC8017] are used to convert an octet string to\n",
    "and from a non-negative integer, and a || b denotes concatenation of\n",
    "a and b.\n",
    "```\n"
   ]
  },
  {
   "cell_type": "code",
   "execution_count": 51,
   "metadata": {},
   "outputs": [
    {
     "ename": "TypeError",
     "evalue": "unsupported operand type(s) for +=: 'int' and 'str'",
     "output_type": "error",
     "traceback": [
      "\u001b[1;31m---------------------------------------------------------------------------\u001b[0m",
      "\u001b[1;31mTypeError\u001b[0m                                 Traceback (most recent call last)",
      "\u001b[1;32m<ipython-input-51-cf95c9fa1ca4>\u001b[0m in \u001b[0;36m<module>\u001b[1;34m\u001b[0m\n\u001b[0;32m     53\u001b[0m     \u001b[1;32mreturn\u001b[0m \u001b[1;34m''\u001b[0m\u001b[1;33m.\u001b[0m\u001b[0mjoin\u001b[0m\u001b[1;33m(\u001b[0m\u001b[1;33m[\u001b[0m\u001b[0mchr\u001b[0m\u001b[1;33m(\u001b[0m\u001b[1;33m(\u001b[0m\u001b[0minteger\u001b[0m \u001b[1;33m>>\u001b[0m \u001b[1;33m(\u001b[0m\u001b[1;36m8\u001b[0m \u001b[1;33m*\u001b[0m \u001b[0mi\u001b[0m\u001b[1;33m)\u001b[0m\u001b[1;33m)\u001b[0m \u001b[1;33m&\u001b[0m \u001b[1;36m0xFF\u001b[0m\u001b[1;33m)\u001b[0m \u001b[1;32mfor\u001b[0m \u001b[0mi\u001b[0m \u001b[1;32min\u001b[0m \u001b[0mreversed\u001b[0m\u001b[1;33m(\u001b[0m\u001b[0mrange\u001b[0m\u001b[1;33m(\u001b[0m\u001b[0msize\u001b[0m\u001b[1;33m)\u001b[0m\u001b[1;33m)\u001b[0m\u001b[1;33m]\u001b[0m\u001b[1;33m)\u001b[0m\u001b[1;33m\u001b[0m\u001b[1;33m\u001b[0m\u001b[0m\n\u001b[0;32m     54\u001b[0m \u001b[1;33m\u001b[0m\u001b[0m\n\u001b[1;32m---> 55\u001b[1;33m \u001b[0mprint\u001b[0m\u001b[1;33m(\u001b[0m\u001b[1;34m\"OCT TEST: I2OSP(23) = {}, and then OS2IP(I2OSP(23)) = {}\"\u001b[0m\u001b[1;33m.\u001b[0m\u001b[0mformat\u001b[0m\u001b[1;33m(\u001b[0m\u001b[0mI2OSP\u001b[0m\u001b[1;33m(\u001b[0m\u001b[1;36m23\u001b[0m\u001b[1;33m)\u001b[0m\u001b[1;33m,\u001b[0m \u001b[0mOS2IP\u001b[0m\u001b[1;33m(\u001b[0m\u001b[0mI2OSP\u001b[0m\u001b[1;33m(\u001b[0m\u001b[1;36m23\u001b[0m\u001b[1;33m)\u001b[0m\u001b[1;33m)\u001b[0m\u001b[1;33m)\u001b[0m\u001b[1;33m)\u001b[0m\u001b[1;33m\u001b[0m\u001b[1;33m\u001b[0m\u001b[0m\n\u001b[0m\u001b[0;32m     56\u001b[0m \u001b[1;33m\u001b[0m\u001b[0m\n\u001b[0;32m     57\u001b[0m \u001b[1;33m\u001b[0m\u001b[0m\n",
      "\u001b[1;32m<ipython-input-51-cf95c9fa1ca4>\u001b[0m in \u001b[0;36mOS2IP\u001b[1;34m(X)\u001b[0m\n\u001b[0;32m     16\u001b[0m         \u001b[0mx\u001b[0m \u001b[1;33m=\u001b[0m \u001b[1;36m0\u001b[0m\u001b[1;33m\u001b[0m\u001b[1;33m\u001b[0m\u001b[0m\n\u001b[0;32m     17\u001b[0m         \u001b[1;32mfor\u001b[0m \u001b[0mi\u001b[0m \u001b[1;32min\u001b[0m \u001b[0mrange\u001b[0m\u001b[1;33m(\u001b[0m\u001b[0mxLen\u001b[0m\u001b[1;33m)\u001b[0m\u001b[1;33m:\u001b[0m\u001b[1;33m\u001b[0m\u001b[1;33m\u001b[0m\u001b[0m\n\u001b[1;32m---> 18\u001b[1;33m             \u001b[0mx\u001b[0m \u001b[1;33m+=\u001b[0m \u001b[0mX\u001b[0m\u001b[1;33m[\u001b[0m\u001b[0mi\u001b[0m\u001b[1;33m]\u001b[0m \u001b[1;33m*\u001b[0m \u001b[1;36m256\u001b[0m\u001b[1;33m**\u001b[0m\u001b[0mi\u001b[0m\u001b[1;33m\u001b[0m\u001b[1;33m\u001b[0m\u001b[0m\n\u001b[0m\u001b[0;32m     19\u001b[0m         \u001b[1;32mreturn\u001b[0m \u001b[0mx\u001b[0m\u001b[1;33m\u001b[0m\u001b[1;33m\u001b[0m\u001b[0m\n\u001b[0;32m     20\u001b[0m \u001b[1;33m\u001b[0m\u001b[0m\n",
      "\u001b[1;31mTypeError\u001b[0m: unsupported operand type(s) for +=: 'int' and 'str'"
     ]
    }
   ],
   "source": [
    "from binascii import hexlify, unhexlify\n",
    "from hashlib import sha1, sha256, sha384, sha512\n",
    "import hashlib\n",
    "\n",
    "# from https://tools.ietf.org/html/rfc8017#section-4.1\n",
    "\n",
    "# Octet-String-to-Integer primitive\n",
    "# def OS2IP(o_string):\n",
    "#     # convert octet string to non-negative integer\n",
    "#     return int(o_string, 256)\n",
    "\n",
    "# https://stackoverflow.com/questions/39964383/implementation-of-i2osp-and-os2ip\n",
    "def OS2IP(X):\n",
    "        xLen = len(X)\n",
    "        X = X[::-1]\n",
    "        x = 0\n",
    "        for i in range(xLen):\n",
    "            x += X[i] * 256**i\n",
    "        return x\n",
    "\n",
    "# https://stackoverflow.com/questions/2267362/how-to-convert-an-integer-in-any-base-to-a-string\n",
    "# def numberToBase(n, b):\n",
    "#     if n == 0:\n",
    "#         return [0]\n",
    "#     digits = []\n",
    "#     while n:\n",
    "#         digits.append(int(n % b))\n",
    "#         n //= b\n",
    "#     return digits[::-1]\n",
    "\n",
    "#Integer-to-Octet-String primitive\n",
    "# def I2OSP(integer, length):\n",
    "#     # find the length, or pass it in\n",
    "#     if integer >= 256**length:\n",
    "#         raise ValueError(\"integer {} too large\".format(integer))\n",
    "#     return numberToBase(integer, 256)[:length]\n",
    "\n",
    "# https://stackoverflow.com/questions/39964383/implementation-of-i2osp-and-os2ip\n",
    "# def I2OSP(x, xLen):\n",
    "#         if x >= 256**xLen:\n",
    "#             raise ValueError(\"integer too large\")\n",
    "#         digits = []\n",
    "\n",
    "#         while x:\n",
    "#             digits.append(int(x % 256))\n",
    "#             x //= 256\n",
    "#         for i in range(xLen - len(digits)):\n",
    "#             digits.append(0)\n",
    "#         return digits[::-1]\n",
    "\n",
    "# https://en.wikipedia.org/wiki/Mask_generation_function\n",
    "def I2OSP(integer: int, size: int = 4) -> str:\n",
    "    return ''.join([chr((integer >> (8 * i)) & 0xFF) for i in reversed(range(size))])\n",
    "\n",
    "print(\"OCT TEST: I2OSP(23) = {}, and then OS2IP(I2OSP(23)) = {}\".format(I2OSP(23), OS2IP(I2OSP(23))))\n",
    "\n",
    "\n",
    "def H(this):\n",
    "    return sha256(this)\n",
    "\n",
    "# def HashToBase(x, i):\n",
    "    \n",
    "    \n"
   ]
  },
  {
   "cell_type": "code",
   "execution_count": 26,
   "metadata": {},
   "outputs": [
    {
     "data": {
      "text/plain": [
       "'0o14732070225451752437267220456106523475503242123547027145742667034746416523016631357560747177637576220351476354254034166072515470631160674163006412536226136652310363417610464331254603631027574307661730601371705154325032710667566452314272616703473053047122072237'"
      ]
     },
     "execution_count": 26,
     "metadata": {},
     "output_type": "execute_result"
    }
   ],
   "source": [
    "oct(1284341928424319814329834132908341034198743170431098714332140798143209874132970843127908341298704319708341901734907314901433198043123849129803419078413709841370984131947389738149780134938417094317809780143941738034190781983418934129823)"
   ]
  },
  {
   "cell_type": "code",
   "execution_count": null,
   "metadata": {},
   "outputs": [],
   "source": []
  }
 ],
 "metadata": {
  "kernelspec": {
   "display_name": "Python 3",
   "language": "python",
   "name": "python3"
  },
  "language_info": {
   "codemirror_mode": {
    "name": "ipython",
    "version": 3
   },
   "file_extension": ".py",
   "mimetype": "text/x-python",
   "name": "python",
   "nbconvert_exporter": "python",
   "pygments_lexer": "ipython3",
   "version": "3.6.10"
  }
 },
 "nbformat": 4,
 "nbformat_minor": 2
}
